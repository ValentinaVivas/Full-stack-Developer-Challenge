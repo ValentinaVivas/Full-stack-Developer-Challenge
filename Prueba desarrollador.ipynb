{
 "cells": [
  {
   "cell_type": "markdown",
   "id": "4617c945",
   "metadata": {},
   "source": [
    "# MD5 Hash Generator"
   ]
  },
  {
   "cell_type": "markdown",
   "id": "b8a898c5",
   "metadata": {},
   "source": [
    "#### Se utizó la página web [MD5 Hash Generator](https://www.md5hashgenerator.com/) para generar la cadena encriptada con MD5"
   ]
  },
  {
   "attachments": {
    "image.png": {
     "image/png": "[encoded data removed]"
    }
   },
   "cell_type": "markdown",
   "id": "b88dc1e4",
   "metadata": {},
   "source": [
    "![image.png](attachment:image.png)"
   ]
  },
  {
   "cell_type": "markdown",
   "id": "6b926dde",
   "metadata": {},
   "source": [
    "#### Se utilizará la librería hashlib para generar la misma cadena encriptada con código en Python"
   ]
  },
  {
   "cell_type": "code",
   "execution_count": 1,
   "id": "743f9698",
   "metadata": {},
   "outputs": [],
   "source": [
    "import hashlib"
   ]
  },
  {
   "cell_type": "code",
   "execution_count": 2,
   "id": "80f8931c",
   "metadata": {},
   "outputs": [
    {
     "name": "stdout",
     "output_type": "stream",
     "text": [
      "MD5 Hash para el string Valentina Vivas es:  49e27dec29514446a4693b9d69e51085\n"
     ]
    }
   ],
   "source": [
    "MD5Hash = hashlib.md5(b'Valentina Vivas')\n",
    "print('MD5 Hash para el string Valentina Vivas es: ', MD5Hash.hexdigest())"
   ]
  },
  {
   "cell_type": "code",
   "execution_count": 3,
   "id": "468a6c92",
   "metadata": {},
   "outputs": [
    {
     "name": "stdout",
     "output_type": "stream",
     "text": [
      "El primer número de la cadena es:  4\n"
     ]
    }
   ],
   "source": [
    "numbers = ''.join(filter(str.isdigit, MD5Hash.hexdigest()))\n",
    "S = int(numbers[0])\n",
    "print('El primer número de la cadena es: ', S)"
   ]
  },
  {
   "cell_type": "markdown",
   "id": "18edd028",
   "metadata": {},
   "source": [
    "## Ejercicio 1"
   ]
  },
  {
   "cell_type": "markdown",
   "id": "6e9575cb",
   "metadata": {},
   "source": [
    "#### Con una lista de n números con dígitos en un rango de [0, S], donde n<=100, intercambiar todas las posiciones de la lista en  tiempo O(n).\n",
    "#### Si el número de entrada contiene un dígito más grande o igual a S, se deberá borrar el dígito del número, por ejemplo con S=6, 61 se convierte en 1, y 6 será eliminado del arreglo. El resultado se deberá imprimir en la consola/terminal. Por favor, no use algoritmos predefinidos del lenguaje."
   ]
  },
  {
   "cell_type": "code",
   "execution_count": 4,
   "id": "d952036c",
   "metadata": {},
   "outputs": [],
   "source": [
    "ex1 = [1,2,3,40,5,60]"
   ]
  },
  {
   "cell_type": "code",
   "execution_count": 5,
   "id": "0315ea3d",
   "metadata": {},
   "outputs": [],
   "source": [
    "def reverseList(array):\n",
    "    lst = array.copy()\n",
    "    left = 0\n",
    "    right = len(lst) - 1\n",
    "\n",
    "    while left < right:\n",
    "        lst[left], lst[right] = lst[right], lst[left]\n",
    "        left += 1\n",
    "        right -= 1\n",
    "\n",
    "    return lst"
   ]
  },
  {
   "cell_type": "code",
   "execution_count": 6,
   "id": "3be4af4c",
   "metadata": {},
   "outputs": [],
   "source": [
    "def sortNums(array, S):\n",
    "    lstNum =[]\n",
    "    for number in reverseList(array):\n",
    "        temp = str(number)\n",
    "        for digit in temp:\n",
    "            if digit >= str(S):\n",
    "                temp = temp.replace(digit, '')\n",
    "        if temp != '':\n",
    "            lstNum.append(int(temp))\n",
    "    return lstNum"
   ]
  },
  {
   "cell_type": "code",
   "execution_count": 7,
   "id": "b16e9ae8",
   "metadata": {},
   "outputs": [
    {
     "data": {
      "text/plain": [
       "[0, 0, 3, 2, 1]"
      ]
     },
     "execution_count": 7,
     "metadata": {},
     "output_type": "execute_result"
    }
   ],
   "source": [
    "sortNums(ex1, S)"
   ]
  },
  {
   "cell_type": "markdown",
   "id": "3c9d7276",
   "metadata": {},
   "source": [
    "## Ejercicio 2"
   ]
  },
  {
   "cell_type": "markdown",
   "id": "da5e1be2",
   "metadata": {},
   "source": [
    "#### Escriba una función que tome un arreglo no vacío de números enteros en orden ascendente y devuelva un  nuevo arreglo de la misma longitud con los cuadrados de los números enteros originales en orden ascendente. Si el número de salida está fuera de rango [0, SS] (para S=6 el rango deberá ser [0, 66]), se eliminará del arreglo de salida. Por favor, no use algoritmos predefinidos del lenguaje."
   ]
  },
  {
   "cell_type": "code",
   "execution_count": 8,
   "id": "c6a0c149",
   "metadata": {},
   "outputs": [],
   "source": [
    "ex2 = {\"array\": [1, 2, 3, 5, 6, 8, 9]}\n",
    "#[1, 4, 9, 25, 36]"
   ]
  },
  {
   "cell_type": "code",
   "execution_count": 9,
   "id": "e59f8d84",
   "metadata": {},
   "outputs": [],
   "source": [
    "def square(array, S):\n",
    "    limit = int(str(S)*2)\n",
    "    lst = array['array']\n",
    "    result = [i**2 for i in lst if i**2 < limit]\n",
    "\n",
    "    maxValue = max(result)\n",
    "    count = [0] * (maxValue + 1)\n",
    "    for number in result:\n",
    "        count[number] += 1\n",
    "    \n",
    "    sortedList = []\n",
    "    for item in range(len(count)):\n",
    "        sortedList.extend([item] * count[item])\n",
    "    \n",
    "    return sortedList"
   ]
  },
  {
   "cell_type": "code",
   "execution_count": 10,
   "id": "1e7da09e",
   "metadata": {},
   "outputs": [
    {
     "data": {
      "text/plain": [
       "[1, 4, 9, 25, 36]"
      ]
     },
     "execution_count": 10,
     "metadata": {},
     "output_type": "execute_result"
    }
   ],
   "source": [
    "square(ex2, S)"
   ]
  },
  {
   "cell_type": "markdown",
   "id": "903ff263",
   "metadata": {},
   "source": [
    "## Ejercicio 3"
   ]
  },
  {
   "cell_type": "markdown",
   "id": "b4019d9e",
   "metadata": {},
   "source": [
    "#### Dado un arreglo de enteros positivos que representan los valores de monedas en tu posesión, escribe una función que devuelva la cantidad mínima de cambio (la suma mínima de dinero) que NO puedes entregar como cambio. Las monedas dadas pueden tener cualquier valor entero positivo y no necesariamente son únicas (es decir, puedes tener varias monedas del mismo valor). Puedes usar la función de ordenamiento incorporada en tu lenguaje de programación."
   ]
  },
  {
   "cell_type": "code",
   "execution_count": 11,
   "id": "fa6b97f3",
   "metadata": {},
   "outputs": [],
   "source": [
    "ex3 = {\"coins\": [5, 7, 1, 1, 2, 3, 22]}\n",
    "#20"
   ]
  },
  {
   "cell_type": "code",
   "execution_count": 12,
   "id": "677c4d2c",
   "metadata": {},
   "outputs": [],
   "source": [
    "def getSum(lst, target):\n",
    "    lenght = len(lst)\n",
    "    dp = [False] * (target + 1)\n",
    "    dp[0] = True\n",
    "    for number in lst:\n",
    "        for item in range(target, number - 1, -1):\n",
    "            dp[item] = dp[item] or dp[item - number]\n",
    "    return dp[target]"
   ]
  },
  {
   "cell_type": "code",
   "execution_count": 13,
   "id": "dab34653",
   "metadata": {},
   "outputs": [],
   "source": [
    "def checkChange(array):\n",
    "    count = 0\n",
    "    while True:\n",
    "        count += 1\n",
    "        if not getSum(array[\"coins\"], count):\n",
    "            return count"
   ]
  },
  {
   "cell_type": "code",
   "execution_count": 14,
   "id": "e7b3145e",
   "metadata": {},
   "outputs": [
    {
     "name": "stdout",
     "output_type": "stream",
     "text": [
      "Cantidad mínima que no se puede entregar de cambio:  20\n"
     ]
    }
   ],
   "source": [
    " print('Cantidad mínima que no se puede entregar de cambio: ', checkChange(ex3))"
   ]
  }
 ],
 "metadata": {
  "kernelspec": {
   "display_name": "Python 3 (ipykernel)",
   "language": "python",
   "name": "python3"
  },
  "language_info": {
   "codemirror_mode": {
    "name": "ipython",
    "version": 3
   },
   "file_extension": ".py",
   "mimetype": "text/x-python",
   "name": "python",
   "nbconvert_exporter": "python",
   "pygments_lexer": "ipython3",
   "version": "3.9.13"
  }
 },
 "nbformat": 4,
 "nbformat_minor": 5
}
